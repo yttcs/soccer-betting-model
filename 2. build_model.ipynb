{
 "cells": [
  {
   "cell_type": "code",
   "execution_count": 3,
   "metadata": {},
   "outputs": [],
   "source": [
    "import pandas as pd\n",
    "import numpy as np\n",
    "import matplotlib.pyplot as plt\n",
    "from sklearn import linear_model"
   ]
  },
  {
   "cell_type": "code",
   "execution_count": 11,
   "metadata": {},
   "outputs": [],
   "source": [
    "# Load in our feature data\n",
    "df_epl = pd.read_csv(r\"C:\\Users\\ADMIN\\Desktop\\Soccer\\Bet_System\\Data\\EPL2021_stats.csv\", index_col = [0])"
   ]
  },
  {
   "cell_type": "code",
   "execution_count": 12,
   "metadata": {},
   "outputs": [
    {
     "data": {
      "text/html": [
       "<div>\n",
       "<style scoped>\n",
       "    .dataframe tbody tr th:only-of-type {\n",
       "        vertical-align: middle;\n",
       "    }\n",
       "\n",
       "    .dataframe tbody tr th {\n",
       "        vertical-align: top;\n",
       "    }\n",
       "\n",
       "    .dataframe thead th {\n",
       "        text-align: right;\n",
       "    }\n",
       "</style>\n",
       "<table border=\"1\" class=\"dataframe\">\n",
       "  <thead>\n",
       "    <tr style=\"text-align: right;\">\n",
       "      <th></th>\n",
       "      <th>team</th>\n",
       "      <th>shots</th>\n",
       "      <th>shots_ot</th>\n",
       "      <th>shots_vs</th>\n",
       "      <th>shots_ot_vs</th>\n",
       "      <th>points</th>\n",
       "    </tr>\n",
       "  </thead>\n",
       "  <tbody>\n",
       "    <tr>\n",
       "      <th>13</th>\n",
       "      <td>Man City</td>\n",
       "      <td>604</td>\n",
       "      <td>219</td>\n",
       "      <td>285</td>\n",
       "      <td>100</td>\n",
       "      <td>86</td>\n",
       "    </tr>\n",
       "    <tr>\n",
       "      <th>5</th>\n",
       "      <td>Man United</td>\n",
       "      <td>521</td>\n",
       "      <td>212</td>\n",
       "      <td>418</td>\n",
       "      <td>140</td>\n",
       "      <td>74</td>\n",
       "    </tr>\n",
       "    <tr>\n",
       "      <th>10</th>\n",
       "      <td>Liverpool</td>\n",
       "      <td>608</td>\n",
       "      <td>214</td>\n",
       "      <td>333</td>\n",
       "      <td>144</td>\n",
       "      <td>69</td>\n",
       "    </tr>\n",
       "    <tr>\n",
       "      <th>4</th>\n",
       "      <td>Chelsea</td>\n",
       "      <td>558</td>\n",
       "      <td>209</td>\n",
       "      <td>336</td>\n",
       "      <td>109</td>\n",
       "      <td>67</td>\n",
       "    </tr>\n",
       "    <tr>\n",
       "      <th>3</th>\n",
       "      <td>Leicester</td>\n",
       "      <td>484</td>\n",
       "      <td>185</td>\n",
       "      <td>369</td>\n",
       "      <td>139</td>\n",
       "      <td>66</td>\n",
       "    </tr>\n",
       "    <tr>\n",
       "      <th>1</th>\n",
       "      <td>West Ham</td>\n",
       "      <td>468</td>\n",
       "      <td>165</td>\n",
       "      <td>464</td>\n",
       "      <td>152</td>\n",
       "      <td>65</td>\n",
       "    </tr>\n",
       "    <tr>\n",
       "      <th>14</th>\n",
       "      <td>Tottenham</td>\n",
       "      <td>444</td>\n",
       "      <td>176</td>\n",
       "      <td>488</td>\n",
       "      <td>158</td>\n",
       "      <td>62</td>\n",
       "    </tr>\n",
       "    <tr>\n",
       "      <th>16</th>\n",
       "      <td>Arsenal</td>\n",
       "      <td>459</td>\n",
       "      <td>152</td>\n",
       "      <td>416</td>\n",
       "      <td>132</td>\n",
       "      <td>61</td>\n",
       "    </tr>\n",
       "    <tr>\n",
       "      <th>6</th>\n",
       "      <td>Leeds</td>\n",
       "      <td>522</td>\n",
       "      <td>199</td>\n",
       "      <td>558</td>\n",
       "      <td>201</td>\n",
       "      <td>59</td>\n",
       "    </tr>\n",
       "    <tr>\n",
       "      <th>12</th>\n",
       "      <td>Everton</td>\n",
       "      <td>400</td>\n",
       "      <td>148</td>\n",
       "      <td>504</td>\n",
       "      <td>163</td>\n",
       "      <td>59</td>\n",
       "    </tr>\n",
       "    <tr>\n",
       "      <th>18</th>\n",
       "      <td>Aston Villa</td>\n",
       "      <td>511</td>\n",
       "      <td>187</td>\n",
       "      <td>538</td>\n",
       "      <td>189</td>\n",
       "      <td>55</td>\n",
       "    </tr>\n",
       "    <tr>\n",
       "      <th>2</th>\n",
       "      <td>Newcastle</td>\n",
       "      <td>397</td>\n",
       "      <td>142</td>\n",
       "      <td>572</td>\n",
       "      <td>193</td>\n",
       "      <td>45</td>\n",
       "    </tr>\n",
       "    <tr>\n",
       "      <th>7</th>\n",
       "      <td>Wolves</td>\n",
       "      <td>462</td>\n",
       "      <td>154</td>\n",
       "      <td>442</td>\n",
       "      <td>157</td>\n",
       "      <td>45</td>\n",
       "    </tr>\n",
       "    <tr>\n",
       "      <th>8</th>\n",
       "      <td>Crystal Palace</td>\n",
       "      <td>349</td>\n",
       "      <td>131</td>\n",
       "      <td>536</td>\n",
       "      <td>177</td>\n",
       "      <td>44</td>\n",
       "    </tr>\n",
       "    <tr>\n",
       "      <th>19</th>\n",
       "      <td>Southampton</td>\n",
       "      <td>423</td>\n",
       "      <td>166</td>\n",
       "      <td>428</td>\n",
       "      <td>180</td>\n",
       "      <td>43</td>\n",
       "    </tr>\n",
       "    <tr>\n",
       "      <th>15</th>\n",
       "      <td>Brighton</td>\n",
       "      <td>487</td>\n",
       "      <td>143</td>\n",
       "      <td>358</td>\n",
       "      <td>127</td>\n",
       "      <td>41</td>\n",
       "    </tr>\n",
       "    <tr>\n",
       "      <th>11</th>\n",
       "      <td>Burnley</td>\n",
       "      <td>384</td>\n",
       "      <td>130</td>\n",
       "      <td>573</td>\n",
       "      <td>187</td>\n",
       "      <td>39</td>\n",
       "    </tr>\n",
       "    <tr>\n",
       "      <th>17</th>\n",
       "      <td>Fulham</td>\n",
       "      <td>442</td>\n",
       "      <td>136</td>\n",
       "      <td>429</td>\n",
       "      <td>173</td>\n",
       "      <td>28</td>\n",
       "    </tr>\n",
       "    <tr>\n",
       "      <th>9</th>\n",
       "      <td>West Brom</td>\n",
       "      <td>340</td>\n",
       "      <td>112</td>\n",
       "      <td>599</td>\n",
       "      <td>246</td>\n",
       "      <td>26</td>\n",
       "    </tr>\n",
       "    <tr>\n",
       "      <th>0</th>\n",
       "      <td>Sheffield United</td>\n",
       "      <td>325</td>\n",
       "      <td>99</td>\n",
       "      <td>542</td>\n",
       "      <td>212</td>\n",
       "      <td>23</td>\n",
       "    </tr>\n",
       "  </tbody>\n",
       "</table>\n",
       "</div>"
      ],
      "text/plain": [
       "                team  shots  shots_ot  shots_vs  shots_ot_vs  points\n",
       "13          Man City    604       219       285          100      86\n",
       "5         Man United    521       212       418          140      74\n",
       "10         Liverpool    608       214       333          144      69\n",
       "4            Chelsea    558       209       336          109      67\n",
       "3          Leicester    484       185       369          139      66\n",
       "1           West Ham    468       165       464          152      65\n",
       "14         Tottenham    444       176       488          158      62\n",
       "16           Arsenal    459       152       416          132      61\n",
       "6              Leeds    522       199       558          201      59\n",
       "12           Everton    400       148       504          163      59\n",
       "18       Aston Villa    511       187       538          189      55\n",
       "2          Newcastle    397       142       572          193      45\n",
       "7             Wolves    462       154       442          157      45\n",
       "8     Crystal Palace    349       131       536          177      44\n",
       "19       Southampton    423       166       428          180      43\n",
       "15          Brighton    487       143       358          127      41\n",
       "11           Burnley    384       130       573          187      39\n",
       "17            Fulham    442       136       429          173      28\n",
       "9          West Brom    340       112       599          246      26\n",
       "0   Sheffield United    325        99       542          212      23"
      ]
     },
     "execution_count": 12,
     "metadata": {},
     "output_type": "execute_result"
    }
   ],
   "source": [
    "df_epl.sort_values('points', ascending=False)"
   ]
  },
  {
   "cell_type": "code",
   "execution_count": 15,
   "metadata": {},
   "outputs": [],
   "source": [
    "# Visualize correlations between features and target variable ('points')"
   ]
  },
  {
   "cell_type": "code",
   "execution_count": 20,
   "metadata": {},
   "outputs": [],
   "source": [
    "# Graph all the features with a loop\n",
    "features = [\"shots\", \"shots_ot\",\"shots_vs\", \"shots_ot_vs\"]"
   ]
  },
  {
   "cell_type": "code",
   "execution_count": 21,
   "metadata": {},
   "outputs": [
    {
     "data": {
      "image/png": "[encoded data removed]",
      "text/plain": [
       "<Figure size 576x576 with 1 Axes>"
      ]
     },
     "metadata": {
      "needs_background": "light"
     },
     "output_type": "display_data"
    },
    {
     "data": {
      "image/png": "[encoded data removed]",
      "text/plain": [
       "<Figure size 576x576 with 1 Axes>"
      ]
     },
     "metadata": {
      "needs_background": "light"
     },
     "output_type": "display_data"
    },
    {
     "data": {
      "image/png": "[encoded data removed]",
      "text/plain": [
       "<Figure size 576x576 with 1 Axes>"
      ]
     },
     "metadata": {
      "needs_background": "light"
     },
     "output_type": "display_data"
    },
    {
     "data": {
      "image/png": "[encoded data removed]",
      "text/plain": [
       "<Figure size 576x576 with 1 Axes>"
      ]
     },
     "metadata": {
      "needs_background": "light"
     },
     "output_type": "display_data"
    }
   ],
   "source": [
    "for i in features:\n",
    "\n",
    "    fig, ax = plt.subplots(figsize=(8,8))\n",
    "    plt.scatter(df_epl[i], df_epl.points, s=100, alpha=0.5, c='#2ECC71')\n",
    "    ax.set_ylabel(\"Points\", fontsize=30)\n",
    "    ax.set_xlabel(i.capitalize(), fontsize=30)\n",
    "    plt.show()"
   ]
  },
  {
   "cell_type": "code",
   "execution_count": 29,
   "metadata": {},
   "outputs": [],
   "source": [
    "# Model Training - Creating a set of rules that will link a set of features with an outcome to predict."
   ]
  },
  {
   "cell_type": "code",
   "execution_count": 30,
   "metadata": {},
   "outputs": [],
   "source": [
    "# 1. Shots on Target to predict Points using Linear Regression"
   ]
  },
  {
   "cell_type": "code",
   "execution_count": 22,
   "metadata": {},
   "outputs": [],
   "source": [
    "#Define features: 1. Shots on Target, 2. Shots on Target Against\n",
    "features = df_epl[[\"shots_ot\", \"shots_ot_vs\"]] \n",
    "#Define target: points\n",
    "target = df_epl[\"points\"]  # we can change the target variable to 'goals' for xG. Make sure to remove the irrelevant features\n",
    "#Define model\n",
    "regr = linear_model.LinearRegression(fit_intercept=False)\n",
    "#Fit model  - This adapts our model coefficients to the data (the EPL data from the 18/19 season).\n",
    "model = regr.fit(features, target)"
   ]
  },
  {
   "cell_type": "code",
   "execution_count": 23,
   "metadata": {},
   "outputs": [
    {
     "data": {
      "text/plain": [
       "0.8254770437903728"
      ]
     },
     "execution_count": 23,
     "metadata": {},
     "output_type": "execute_result"
    }
   ],
   "source": [
    "#Check the R-squared of the model  (how much of the variance is explained in our model)\n",
    "model.score(features, target)"
   ]
  },
  {
   "cell_type": "code",
   "execution_count": 24,
   "metadata": {},
   "outputs": [],
   "source": [
    "# save the model\n",
    "from joblib import dump, load"
   ]
  },
  {
   "cell_type": "code",
   "execution_count": 25,
   "metadata": {},
   "outputs": [
    {
     "data": {
      "text/plain": [
       "['C:\\\\Users\\\\ADMIN\\\\Desktop\\\\Soccer\\\\Bet_System\\\\Data/epl_model.joblib']"
      ]
     },
     "execution_count": 25,
     "metadata": {},
     "output_type": "execute_result"
    }
   ],
   "source": [
    "dump(model,r'C:\\Users\\ADMIN\\Desktop\\Soccer\\Bet_System\\Data/epl_model.joblib')"
   ]
  }
 ],
 "metadata": {
  "kernelspec": {
   "display_name": "Python 3 (ipykernel)",
   "language": "python",
   "name": "python3"
  },
  "language_info": {
   "codemirror_mode": {
    "name": "ipython",
    "version": 3
   },
   "file_extension": ".py",
   "mimetype": "text/x-python",
   "name": "python",
   "nbconvert_exporter": "python",
   "pygments_lexer": "ipython3",
   "version": "3.10.2"
  }
 },
 "nbformat": 4,
 "nbformat_minor": 2
}
