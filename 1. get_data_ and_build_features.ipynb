{
 "cells": [
  {
   "cell_type": "code",
   "execution_count": 2,
   "metadata": {},
   "outputs": [],
   "source": [
    "import pandas as pd\n",
    "import numpy as np\n",
    "import matplotlib as mpl"
   ]
  },
  {
   "cell_type": "code",
   "execution_count": 3,
   "metadata": {},
   "outputs": [],
   "source": [
    "# get EPL data for 2020-2021 season\n",
    "df=pd.read_csv(\"https://www.football-data.co.uk/mmz4281/2021/E0.csv\")"
   ]
  },
  {
   "cell_type": "code",
   "execution_count": 4,
   "metadata": {},
   "outputs": [],
   "source": [
    "# keep only the columns wwe want\n",
    "df_clean=df[[\"Date\",\"HomeTeam\",\"AwayTeam\",\"FTHG\",\"FTAG\",\"FTR\",\"HS\",\"AS\",\"HST\",\"AST\",\"HC\",\"AC\"]]"
   ]
  },
  {
   "cell_type": "code",
   "execution_count": 9,
   "metadata": {},
   "outputs": [],
   "source": [
    "#Save the new df to as a .csv\n",
    "df_clean.to_csv('C:/Users/ADMIN/Desktop/Soccer/Bet_System/Data/EPL2021_clean.csv')"
   ]
  },
  {
   "cell_type": "code",
   "execution_count": 12,
   "metadata": {},
   "outputs": [],
   "source": [
    "# load in our clean df \n",
    "df_epl = pd.read_csv(r'C:\\Users\\ADMIN\\Desktop\\Soccer\\Bet_System\\Data\\EPL2021_clean.csv', index_col=[0])"
   ]
  },
  {
   "cell_type": "code",
   "execution_count": 13,
   "metadata": {},
   "outputs": [],
   "source": [
    "# Get team names from the two columns\n",
    "home_teams = df_epl[\"HomeTeam\"].unique()\n",
    "away_teams = df_epl[\"AwayTeam\"].unique()"
   ]
  },
  {
   "cell_type": "code",
   "execution_count": 14,
   "metadata": {},
   "outputs": [],
   "source": [
    "# Combine the two numpy arrays into a list. Use \"set\" to get rid of duplicates\n",
    "all_teams = list(set(np.append(home_teams, away_teams)))"
   ]
  },
  {
   "cell_type": "code",
   "execution_count": 15,
   "metadata": {},
   "outputs": [],
   "source": [
    "# Test the idea by getting the first team in the list of teams\n",
    "team = all_teams[0]"
   ]
  },
  {
   "cell_type": "code",
   "execution_count": 16,
   "metadata": {},
   "outputs": [],
   "source": [
    "# create a DF with all the games for that first team\n",
    "df_team = df_epl[(df_epl[\"HomeTeam\"]==team) | (df_epl[\"AwayTeam\"]==team)]"
   ]
  },
  {
   "cell_type": "code",
   "execution_count": 17,
   "metadata": {},
   "outputs": [
    {
     "data": {
      "text/html": [
       "<div>\n",
       "<style scoped>\n",
       "    .dataframe tbody tr th:only-of-type {\n",
       "        vertical-align: middle;\n",
       "    }\n",
       "\n",
       "    .dataframe tbody tr th {\n",
       "        vertical-align: top;\n",
       "    }\n",
       "\n",
       "    .dataframe thead th {\n",
       "        text-align: right;\n",
       "    }\n",
       "</style>\n",
       "<table border=\"1\" class=\"dataframe\">\n",
       "  <thead>\n",
       "    <tr style=\"text-align: right;\">\n",
       "      <th></th>\n",
       "      <th>Date</th>\n",
       "      <th>HomeTeam</th>\n",
       "      <th>AwayTeam</th>\n",
       "      <th>FTHG</th>\n",
       "      <th>FTAG</th>\n",
       "      <th>FTR</th>\n",
       "      <th>HS</th>\n",
       "      <th>AS</th>\n",
       "      <th>HST</th>\n",
       "      <th>AST</th>\n",
       "      <th>HC</th>\n",
       "      <th>AC</th>\n",
       "    </tr>\n",
       "  </thead>\n",
       "  <tbody>\n",
       "    <tr>\n",
       "      <th>0</th>\n",
       "      <td>12/09/2020</td>\n",
       "      <td>Fulham</td>\n",
       "      <td>Arsenal</td>\n",
       "      <td>0</td>\n",
       "      <td>3</td>\n",
       "      <td>A</td>\n",
       "      <td>5</td>\n",
       "      <td>13</td>\n",
       "      <td>2</td>\n",
       "      <td>6</td>\n",
       "      <td>2</td>\n",
       "      <td>3</td>\n",
       "    </tr>\n",
       "    <tr>\n",
       "      <th>11</th>\n",
       "      <td>19/09/2020</td>\n",
       "      <td>Arsenal</td>\n",
       "      <td>West Ham</td>\n",
       "      <td>2</td>\n",
       "      <td>1</td>\n",
       "      <td>H</td>\n",
       "      <td>7</td>\n",
       "      <td>14</td>\n",
       "      <td>3</td>\n",
       "      <td>3</td>\n",
       "      <td>7</td>\n",
       "      <td>5</td>\n",
       "    </tr>\n",
       "    <tr>\n",
       "      <th>27</th>\n",
       "      <td>28/09/2020</td>\n",
       "      <td>Liverpool</td>\n",
       "      <td>Arsenal</td>\n",
       "      <td>3</td>\n",
       "      <td>1</td>\n",
       "      <td>H</td>\n",
       "      <td>21</td>\n",
       "      <td>4</td>\n",
       "      <td>8</td>\n",
       "      <td>3</td>\n",
       "      <td>7</td>\n",
       "      <td>3</td>\n",
       "    </tr>\n",
       "    <tr>\n",
       "      <th>34</th>\n",
       "      <td>04/10/2020</td>\n",
       "      <td>Arsenal</td>\n",
       "      <td>Sheffield United</td>\n",
       "      <td>2</td>\n",
       "      <td>1</td>\n",
       "      <td>H</td>\n",
       "      <td>6</td>\n",
       "      <td>6</td>\n",
       "      <td>5</td>\n",
       "      <td>2</td>\n",
       "      <td>2</td>\n",
       "      <td>4</td>\n",
       "    </tr>\n",
       "    <tr>\n",
       "      <th>40</th>\n",
       "      <td>17/10/2020</td>\n",
       "      <td>Man City</td>\n",
       "      <td>Arsenal</td>\n",
       "      <td>1</td>\n",
       "      <td>0</td>\n",
       "      <td>H</td>\n",
       "      <td>13</td>\n",
       "      <td>11</td>\n",
       "      <td>5</td>\n",
       "      <td>3</td>\n",
       "      <td>6</td>\n",
       "      <td>6</td>\n",
       "    </tr>\n",
       "  </tbody>\n",
       "</table>\n",
       "</div>"
      ],
      "text/plain": [
       "          Date   HomeTeam          AwayTeam  FTHG  FTAG FTR  HS  AS  HST  AST  \\\n",
       "0   12/09/2020     Fulham           Arsenal     0     3   A   5  13    2    6   \n",
       "11  19/09/2020    Arsenal          West Ham     2     1   H   7  14    3    3   \n",
       "27  28/09/2020  Liverpool           Arsenal     3     1   H  21   4    8    3   \n",
       "34  04/10/2020    Arsenal  Sheffield United     2     1   H   6   6    5    2   \n",
       "40  17/10/2020   Man City           Arsenal     1     0   H  13  11    5    3   \n",
       "\n",
       "    HC  AC  \n",
       "0    2   3  \n",
       "11   7   5  \n",
       "27   7   3  \n",
       "34   2   4  \n",
       "40   6   6  "
      ]
     },
     "execution_count": 17,
     "metadata": {},
     "output_type": "execute_result"
    }
   ],
   "source": [
    "df_team.head(5)"
   ]
  },
  {
   "cell_type": "code",
   "execution_count": 18,
   "metadata": {},
   "outputs": [],
   "source": [
    "# set Date as index\n",
    "df_team.set_index('Date', inplace=True)"
   ]
  },
  {
   "cell_type": "code",
   "execution_count": 20,
   "metadata": {},
   "outputs": [
    {
     "data": {
      "text/html": [
       "<div>\n",
       "<style scoped>\n",
       "    .dataframe tbody tr th:only-of-type {\n",
       "        vertical-align: middle;\n",
       "    }\n",
       "\n",
       "    .dataframe tbody tr th {\n",
       "        vertical-align: top;\n",
       "    }\n",
       "\n",
       "    .dataframe thead th {\n",
       "        text-align: right;\n",
       "    }\n",
       "</style>\n",
       "<table border=\"1\" class=\"dataframe\">\n",
       "  <thead>\n",
       "    <tr style=\"text-align: right;\">\n",
       "      <th></th>\n",
       "      <th>HomeTeam</th>\n",
       "      <th>AwayTeam</th>\n",
       "      <th>FTHG</th>\n",
       "      <th>FTAG</th>\n",
       "      <th>FTR</th>\n",
       "      <th>HS</th>\n",
       "      <th>AS</th>\n",
       "      <th>HST</th>\n",
       "      <th>AST</th>\n",
       "      <th>HC</th>\n",
       "      <th>AC</th>\n",
       "    </tr>\n",
       "    <tr>\n",
       "      <th>Date</th>\n",
       "      <th></th>\n",
       "      <th></th>\n",
       "      <th></th>\n",
       "      <th></th>\n",
       "      <th></th>\n",
       "      <th></th>\n",
       "      <th></th>\n",
       "      <th></th>\n",
       "      <th></th>\n",
       "      <th></th>\n",
       "      <th></th>\n",
       "    </tr>\n",
       "  </thead>\n",
       "  <tbody>\n",
       "    <tr>\n",
       "      <th>12/09/2020</th>\n",
       "      <td>Fulham</td>\n",
       "      <td>Arsenal</td>\n",
       "      <td>0</td>\n",
       "      <td>3</td>\n",
       "      <td>A</td>\n",
       "      <td>5</td>\n",
       "      <td>13</td>\n",
       "      <td>2</td>\n",
       "      <td>6</td>\n",
       "      <td>2</td>\n",
       "      <td>3</td>\n",
       "    </tr>\n",
       "    <tr>\n",
       "      <th>19/09/2020</th>\n",
       "      <td>Arsenal</td>\n",
       "      <td>West Ham</td>\n",
       "      <td>2</td>\n",
       "      <td>1</td>\n",
       "      <td>H</td>\n",
       "      <td>7</td>\n",
       "      <td>14</td>\n",
       "      <td>3</td>\n",
       "      <td>3</td>\n",
       "      <td>7</td>\n",
       "      <td>5</td>\n",
       "    </tr>\n",
       "    <tr>\n",
       "      <th>28/09/2020</th>\n",
       "      <td>Liverpool</td>\n",
       "      <td>Arsenal</td>\n",
       "      <td>3</td>\n",
       "      <td>1</td>\n",
       "      <td>H</td>\n",
       "      <td>21</td>\n",
       "      <td>4</td>\n",
       "      <td>8</td>\n",
       "      <td>3</td>\n",
       "      <td>7</td>\n",
       "      <td>3</td>\n",
       "    </tr>\n",
       "    <tr>\n",
       "      <th>04/10/2020</th>\n",
       "      <td>Arsenal</td>\n",
       "      <td>Sheffield United</td>\n",
       "      <td>2</td>\n",
       "      <td>1</td>\n",
       "      <td>H</td>\n",
       "      <td>6</td>\n",
       "      <td>6</td>\n",
       "      <td>5</td>\n",
       "      <td>2</td>\n",
       "      <td>2</td>\n",
       "      <td>4</td>\n",
       "    </tr>\n",
       "    <tr>\n",
       "      <th>17/10/2020</th>\n",
       "      <td>Man City</td>\n",
       "      <td>Arsenal</td>\n",
       "      <td>1</td>\n",
       "      <td>0</td>\n",
       "      <td>H</td>\n",
       "      <td>13</td>\n",
       "      <td>11</td>\n",
       "      <td>5</td>\n",
       "      <td>3</td>\n",
       "      <td>6</td>\n",
       "      <td>6</td>\n",
       "    </tr>\n",
       "  </tbody>\n",
       "</table>\n",
       "</div>"
      ],
      "text/plain": [
       "             HomeTeam          AwayTeam  FTHG  FTAG FTR  HS  AS  HST  AST  HC  \\\n",
       "Date                                                                            \n",
       "12/09/2020     Fulham           Arsenal     0     3   A   5  13    2    6   2   \n",
       "19/09/2020    Arsenal          West Ham     2     1   H   7  14    3    3   7   \n",
       "28/09/2020  Liverpool           Arsenal     3     1   H  21   4    8    3   7   \n",
       "04/10/2020    Arsenal  Sheffield United     2     1   H   6   6    5    2   2   \n",
       "17/10/2020   Man City           Arsenal     1     0   H  13  11    5    3   6   \n",
       "\n",
       "            AC  \n",
       "Date            \n",
       "12/09/2020   3  \n",
       "19/09/2020   5  \n",
       "28/09/2020   3  \n",
       "04/10/2020   4  \n",
       "17/10/2020   6  "
      ]
     },
     "execution_count": 20,
     "metadata": {},
     "output_type": "execute_result"
    }
   ],
   "source": [
    "# check\n",
    "df_team.head(5)"
   ]
  },
  {
   "cell_type": "code",
   "execution_count": 22,
   "metadata": {},
   "outputs": [],
   "source": [
    "# Build Features (even though were just going to use two)"
   ]
  },
  {
   "cell_type": "code",
   "execution_count": 23,
   "metadata": {},
   "outputs": [],
   "source": [
    "team_shots = df_team.apply( lambda x: x[\"HS\"] if x[\"HomeTeam\"] == team\n",
    "    else x[\"AS\"], axis=1).sum()\n",
    "\n",
    "team_shots_ot = df_team.apply( lambda x: x[\"HST\"] if x[\"HomeTeam\"] == team\n",
    "    else x[\"AST\"], axis=1).sum()\n",
    "\n",
    "team_goals = df_team.apply( lambda x: x[\"FTHG\"] if x[\"HomeTeam\"] == team\n",
    "    else x[\"FTAG\"], axis=1).sum()\n",
    "\n",
    "team_shots_vs = df_team.apply( lambda x: x[\"AS\"] if x[\"HomeTeam\"] == team\n",
    "    else x[\"HS\"], axis=1).sum()\n",
    "\n",
    "team_shots_ot_vs = df_team.apply( lambda x: x[\"AST\"] if x[\"HomeTeam\"] == team\n",
    "    else x[\"HST\"], axis=1).sum()\n",
    "\n",
    "team_goals_vs = df_team.apply( lambda x: x[\"FTAG\"] if x[\"HomeTeam\"] == team\n",
    "    else x[\"FTHG\"], axis=1).sum()\n",
    "\n",
    "team_points = df_team.apply(lambda x: 3 if ((x[\"HomeTeam\"] == team and x[\"FTR\"] == \"H\") or (x[\"AwayTeam\"] == team and x[\"FTR\"] == \"A\"))\n",
    "    else (1 if x[\"FTR\"] == \"D\" else 0), axis=1).sum()"
   ]
  },
  {
   "cell_type": "code",
   "execution_count": 37,
   "metadata": {},
   "outputs": [],
   "source": [
    "# Define a function to do this for all teams:\n",
    "# It takes 'df_epl' DataFrame and the 'team' list as arguments\n",
    "# It returns the 'team_stats' dictionary with the team name and the sliced \n",
    "#'df_epl' DataFrame 'df_team'"
   ]
  },
  {
   "cell_type": "code",
   "execution_count": 24,
   "metadata": {},
   "outputs": [],
   "source": [
    "def calc_feats(df, team):\n",
    "\n",
    "    team_stats = dict()\n",
    "    df_team = df_epl[(df_epl[\"HomeTeam\"]==team) | (df_epl[\"AwayTeam\"]==team)]\n",
    "    team_stats[\"team\"] = team\n",
    "    return team_stats, df_team\n",
    "\n"
   ]
  },
  {
   "cell_type": "code",
   "execution_count": 25,
   "metadata": {},
   "outputs": [
    {
     "data": {
      "text/plain": [
       "({'team': 'Cardiff'},\n",
       " Empty DataFrame\n",
       " Columns: [Date, HomeTeam, AwayTeam, FTHG, FTAG, FTR, HS, AS, HST, AST, HC, AC]\n",
       " Index: [])"
      ]
     },
     "execution_count": 25,
     "metadata": {},
     "output_type": "execute_result"
    }
   ],
   "source": [
    "# Call the function to test\n",
    "calc_feats(df_epl, \"Cardiff\")"
   ]
  },
  {
   "cell_type": "code",
   "execution_count": 26,
   "metadata": {},
   "outputs": [],
   "source": [
    "# Modify the function by adding the features we built and anly returning the 'team_stats' dictionary\n",
    "def calc_feats(df, team):\n",
    "\n",
    "    team_stats = dict()\n",
    "    df_team = df_epl[(df_epl[\"HomeTeam\"]==team) | (df_epl[\"AwayTeam\"]==team)]\n",
    "        \n",
    "    team_shots = df_team.apply( lambda x: x[\"HS\"] if x[\"HomeTeam\"] == team\n",
    "    else x[\"AS\"], axis=1).sum()\n",
    "\n",
    "    team_shots_ot = df_team.apply( lambda x: x[\"HST\"] if x[\"HomeTeam\"] == team\n",
    "    else x[\"AST\"], axis=1).sum()\n",
    "    \n",
    "    team_goals = df_team.apply( lambda x: x[\"FTHG\"] if x[\"HomeTeam\"] == team\n",
    "    else x[\"FTAG\"], axis=1).sum()\n",
    "\n",
    "    team_shots_vs = df_team.apply( lambda x: x[\"AS\"] if x[\"HomeTeam\"] == team\n",
    "    else x[\"HS\"], axis=1).sum()\n",
    "\n",
    "    team_shots_ot_vs = df_team.apply( lambda x: x[\"AST\"] if x[\"HomeTeam\"] == team\n",
    "    else x[\"HST\"], axis=1).sum()\n",
    "    \n",
    "    team_goals_vs = df_team.apply( lambda x: x[\"FTAG\"] if x[\"HomeTeam\"] == team\n",
    "    else x[\"FTHG\"], axis=1).sum()\n",
    "\n",
    "    team_points = df_team.apply(lambda x: 3 if ((x[\"HomeTeam\"] == team and x[\"FTR\"] == \"H\") or (x[\"AwayTeam\"] == team and x[\"FTR\"] == \"A\"))\n",
    "    else (1 if x[\"FTR\"] == \"D\" else 0), axis=1).sum()\n",
    "    \n",
    "    team_stats[\"team\"]=team\n",
    "    team_stats[\"shots\"] = team_shots\n",
    "    team_stats[\"shots_ot\"] = team_shots_ot\n",
    "    #team_stats[\"goals\"] = team_goals\n",
    "    team_stats[\"shots_vs\"] = team_shots_vs\n",
    "    team_stats[\"shots_ot_vs\"] = team_shots_ot_vs\n",
    "    #team_stats[\"goals_vs\"] = team_goals_vs\n",
    "    team_stats[\"points\"] = team_points\n",
    "    \n",
    "    return team_stats          "
   ]
  },
  {
   "cell_type": "code",
   "execution_count": 27,
   "metadata": {},
   "outputs": [
    {
     "data": {
      "text/plain": [
       "{'team': 'Liverpool',\n",
       " 'shots': 608,\n",
       " 'shots_ot': 214,\n",
       " 'shots_vs': 333,\n",
       " 'shots_ot_vs': 144,\n",
       " 'points': 69}"
      ]
     },
     "execution_count": 27,
     "metadata": {},
     "output_type": "execute_result"
    }
   ],
   "source": [
    "# test\n",
    "calc_feats(df_epl, \"Liverpool\")"
   ]
  },
  {
   "cell_type": "code",
   "execution_count": 28,
   "metadata": {},
   "outputs": [],
   "source": [
    "# Put all teams stats into a list of dictionaries\n",
    "all_teams_stats = []"
   ]
  },
  {
   "cell_type": "code",
   "execution_count": 29,
   "metadata": {},
   "outputs": [],
   "source": [
    "for team in all_teams: \n",
    "    team_stats = calc_feats(df_epl, team)\n",
    "    all_teams_stats.append(team_stats)"
   ]
  },
  {
   "cell_type": "code",
   "execution_count": 30,
   "metadata": {},
   "outputs": [
    {
     "data": {
      "text/plain": [
       "[{'team': 'Arsenal',\n",
       "  'shots': 459,\n",
       "  'shots_ot': 152,\n",
       "  'shots_vs': 416,\n",
       "  'shots_ot_vs': 132,\n",
       "  'points': 61},\n",
       " {'team': 'Aston Villa',\n",
       "  'shots': 511,\n",
       "  'shots_ot': 187,\n",
       "  'shots_vs': 538,\n",
       "  'shots_ot_vs': 189,\n",
       "  'points': 55},\n",
       " {'team': 'Man City',\n",
       "  'shots': 604,\n",
       "  'shots_ot': 219,\n",
       "  'shots_vs': 285,\n",
       "  'shots_ot_vs': 100,\n",
       "  'points': 86},\n",
       " {'team': 'Leicester',\n",
       "  'shots': 484,\n",
       "  'shots_ot': 185,\n",
       "  'shots_vs': 369,\n",
       "  'shots_ot_vs': 139,\n",
       "  'points': 66},\n",
       " {'team': 'Liverpool',\n",
       "  'shots': 608,\n",
       "  'shots_ot': 214,\n",
       "  'shots_vs': 333,\n",
       "  'shots_ot_vs': 144,\n",
       "  'points': 69},\n",
       " {'team': 'Southampton',\n",
       "  'shots': 423,\n",
       "  'shots_ot': 166,\n",
       "  'shots_vs': 428,\n",
       "  'shots_ot_vs': 180,\n",
       "  'points': 43},\n",
       " {'team': 'West Brom',\n",
       "  'shots': 340,\n",
       "  'shots_ot': 112,\n",
       "  'shots_vs': 599,\n",
       "  'shots_ot_vs': 246,\n",
       "  'points': 26},\n",
       " {'team': 'Sheffield United',\n",
       "  'shots': 325,\n",
       "  'shots_ot': 99,\n",
       "  'shots_vs': 542,\n",
       "  'shots_ot_vs': 212,\n",
       "  'points': 23},\n",
       " {'team': 'Burnley',\n",
       "  'shots': 384,\n",
       "  'shots_ot': 130,\n",
       "  'shots_vs': 573,\n",
       "  'shots_ot_vs': 187,\n",
       "  'points': 39},\n",
       " {'team': 'Wolves',\n",
       "  'shots': 462,\n",
       "  'shots_ot': 154,\n",
       "  'shots_vs': 442,\n",
       "  'shots_ot_vs': 157,\n",
       "  'points': 45},\n",
       " {'team': 'Fulham',\n",
       "  'shots': 442,\n",
       "  'shots_ot': 136,\n",
       "  'shots_vs': 429,\n",
       "  'shots_ot_vs': 173,\n",
       "  'points': 28},\n",
       " {'team': 'Brighton',\n",
       "  'shots': 487,\n",
       "  'shots_ot': 143,\n",
       "  'shots_vs': 358,\n",
       "  'shots_ot_vs': 127,\n",
       "  'points': 41},\n",
       " {'team': 'Crystal Palace',\n",
       "  'shots': 349,\n",
       "  'shots_ot': 131,\n",
       "  'shots_vs': 536,\n",
       "  'shots_ot_vs': 177,\n",
       "  'points': 44},\n",
       " {'team': 'Leeds',\n",
       "  'shots': 522,\n",
       "  'shots_ot': 199,\n",
       "  'shots_vs': 558,\n",
       "  'shots_ot_vs': 201,\n",
       "  'points': 59},\n",
       " {'team': 'Chelsea',\n",
       "  'shots': 558,\n",
       "  'shots_ot': 209,\n",
       "  'shots_vs': 336,\n",
       "  'shots_ot_vs': 109,\n",
       "  'points': 67},\n",
       " {'team': 'Everton',\n",
       "  'shots': 400,\n",
       "  'shots_ot': 148,\n",
       "  'shots_vs': 504,\n",
       "  'shots_ot_vs': 163,\n",
       "  'points': 59},\n",
       " {'team': 'Man United',\n",
       "  'shots': 521,\n",
       "  'shots_ot': 212,\n",
       "  'shots_vs': 418,\n",
       "  'shots_ot_vs': 140,\n",
       "  'points': 74},\n",
       " {'team': 'Newcastle',\n",
       "  'shots': 397,\n",
       "  'shots_ot': 142,\n",
       "  'shots_vs': 572,\n",
       "  'shots_ot_vs': 193,\n",
       "  'points': 45},\n",
       " {'team': 'Tottenham',\n",
       "  'shots': 444,\n",
       "  'shots_ot': 176,\n",
       "  'shots_vs': 488,\n",
       "  'shots_ot_vs': 158,\n",
       "  'points': 62},\n",
       " {'team': 'West Ham',\n",
       "  'shots': 468,\n",
       "  'shots_ot': 165,\n",
       "  'shots_vs': 464,\n",
       "  'shots_ot_vs': 152,\n",
       "  'points': 65}]"
      ]
     },
     "execution_count": 30,
     "metadata": {},
     "output_type": "execute_result"
    }
   ],
   "source": [
    "all_teams_stats"
   ]
  },
  {
   "cell_type": "code",
   "execution_count": 31,
   "metadata": {},
   "outputs": [],
   "source": [
    "# Turn the list of dictionaries into a DataFrame\n",
    "df_all_stats = pd.DataFrame(all_teams_stats)"
   ]
  },
  {
   "cell_type": "code",
   "execution_count": 33,
   "metadata": {},
   "outputs": [],
   "source": [
    "# Save the DF to a CSV file\n",
    "df_all_stats.to_csv(r\"C:\\Users\\ADMIN\\Desktop\\Soccer\\Bet_System\\Data\\EPL2021_stats.csv\")"
   ]
  }
 ],
 "metadata": {
  "kernelspec": {
   "display_name": "Python 3 (ipykernel)",
   "language": "python",
   "name": "python3"
  },
  "language_info": {
   "codemirror_mode": {
    "name": "ipython",
    "version": 3
   },
   "file_extension": ".py",
   "mimetype": "text/x-python",
   "name": "python",
   "nbconvert_exporter": "python",
   "pygments_lexer": "ipython3",
   "version": "3.10.2"
  }
 },
 "nbformat": 4,
 "nbformat_minor": 2
}
